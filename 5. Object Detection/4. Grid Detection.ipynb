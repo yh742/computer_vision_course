{
 "cells": [
  {
   "cell_type": "code",
   "execution_count": 1,
   "metadata": {},
   "outputs": [],
   "source": [
    "# grid patterns are often use to calibrate cameras and track motions"
   ]
  },
  {
   "cell_type": "code",
   "execution_count": 2,
   "metadata": {},
   "outputs": [],
   "source": [
    "import cv2\n",
    "import numpy as np\n",
    "import matplotlib.pyplot as plt"
   ]
  },
  {
   "cell_type": "code",
   "execution_count": 4,
   "metadata": {},
   "outputs": [],
   "source": [
    "flat_chess = cv2.imread('../Data/flat_chessboard.png')"
   ]
  },
  {
   "cell_type": "code",
   "execution_count": 5,
   "metadata": {},
   "outputs": [
    {
     "data": {
      "text/plain": [
       "<matplotlib.image.AxesImage at 0x1224679e8>"
      ]
     },
     "execution_count": 5,
     "metadata": {},
     "output_type": "execute_result"
    },
    {
     "data": {
      "image/png": "[encoded data removed]",
      "text/plain": [
       "<Figure size 432x288 with 1 Axes>"
      ]
     },
     "metadata": {
      "needs_background": "light"
     },
     "output_type": "display_data"
    }
   ],
   "source": [
    "plt.imshow(flat_chess)"
   ]
  },
  {
   "cell_type": "code",
   "execution_count": 9,
   "metadata": {},
   "outputs": [],
   "source": [
    "# found is boolean, corner is pixel locations\n",
    "found,corners = cv2.findChessboardCorners(flat_chess,(7,7))"
   ]
  },
  {
   "cell_type": "code",
   "execution_count": 12,
   "metadata": {},
   "outputs": [
    {
     "data": {
      "text/plain": [
       "array([[[158, 206, 255],\n",
       "        [158, 206, 255],\n",
       "        [158, 206, 255],\n",
       "        ...,\n",
       "        [ 71, 139, 209],\n",
       "        [ 71, 139, 209],\n",
       "        [ 71, 139, 209]],\n",
       "\n",
       "       [[158, 206, 255],\n",
       "        [158, 206, 255],\n",
       "        [158, 206, 255],\n",
       "        ...,\n",
       "        [ 71, 139, 209],\n",
       "        [ 71, 139, 209],\n",
       "        [ 71, 139, 209]],\n",
       "\n",
       "       [[158, 206, 255],\n",
       "        [158, 206, 255],\n",
       "        [158, 206, 255],\n",
       "        ...,\n",
       "        [ 71, 139, 209],\n",
       "        [ 71, 139, 209],\n",
       "        [ 71, 139, 209]],\n",
       "\n",
       "       ...,\n",
       "\n",
       "       [[ 71, 139, 209],\n",
       "        [ 71, 139, 209],\n",
       "        [ 71, 139, 209],\n",
       "        ...,\n",
       "        [158, 206, 255],\n",
       "        [158, 206, 255],\n",
       "        [158, 206, 255]],\n",
       "\n",
       "       [[ 71, 139, 209],\n",
       "        [ 71, 139, 209],\n",
       "        [ 71, 139, 209],\n",
       "        ...,\n",
       "        [158, 206, 255],\n",
       "        [158, 206, 255],\n",
       "        [158, 206, 255]],\n",
       "\n",
       "       [[ 71, 139, 209],\n",
       "        [ 71, 139, 209],\n",
       "        [ 71, 139, 209],\n",
       "        ...,\n",
       "        [158, 206, 255],\n",
       "        [158, 206, 255],\n",
       "        [158, 206, 255]]], dtype=uint8)"
      ]
     },
     "execution_count": 12,
     "metadata": {},
     "output_type": "execute_result"
    }
   ],
   "source": [
    "# this draws in place\n",
    "cv2.drawChessboardCorners(flat_chess,(7,7),corners,found)"
   ]
  },
  {
   "cell_type": "code",
   "execution_count": 13,
   "metadata": {},
   "outputs": [
    {
     "data": {
      "text/plain": [
       "<matplotlib.image.AxesImage at 0x12260b908>"
      ]
     },
     "execution_count": 13,
     "metadata": {},
     "output_type": "execute_result"
    },
    {
     "data": {
      "image/png": "[encoded data removed]",
      "text/plain": [
       "<Figure size 432x288 with 1 Axes>"
      ]
     },
     "metadata": {
      "needs_background": "light"
     },
     "output_type": "display_data"
    }
   ],
   "source": [
    "plt.imshow(flat_chess)"
   ]
  },
  {
   "cell_type": "code",
   "execution_count": 14,
   "metadata": {},
   "outputs": [],
   "source": [
    "dots = cv2.imread('../DATA/dot_grid.png')"
   ]
  },
  {
   "cell_type": "code",
   "execution_count": 15,
   "metadata": {},
   "outputs": [
    {
     "data": {
      "text/plain": [
       "<matplotlib.image.AxesImage at 0x12380c400>"
      ]
     },
     "execution_count": 15,
     "metadata": {},
     "output_type": "execute_result"
    },
    {
     "data": {
      "image/png": "[encoded data removed]",
      "text/plain": [
       "<Figure size 432x288 with 1 Axes>"
      ]
     },
     "metadata": {
      "needs_background": "light"
     },
     "output_type": "display_data"
    }
   ],
   "source": [
    "plt.imshow(dots)"
   ]
  },
  {
   "cell_type": "code",
   "execution_count": 16,
   "metadata": {},
   "outputs": [],
   "source": [
    "found,corners = cv2.findCirclesGrid(dots,(10,10),cv2.CALIB_CB_SYMMETRIC_GRID)"
   ]
  },
  {
   "cell_type": "code",
   "execution_count": 17,
   "metadata": {},
   "outputs": [
    {
     "data": {
      "text/plain": [
       "True"
      ]
     },
     "execution_count": 17,
     "metadata": {},
     "output_type": "execute_result"
    }
   ],
   "source": [
    "found"
   ]
  },
  {
   "cell_type": "code",
   "execution_count": 18,
   "metadata": {},
   "outputs": [
    {
     "data": {
      "text/plain": [
       "array([[[ 29.5,  29.5]],\n",
       "\n",
       "       [[ 89.5,  29.5]],\n",
       "\n",
       "       [[149.5,  29.5]],\n",
       "\n",
       "       [[209.5,  29.5]],\n",
       "\n",
       "       [[269.5,  29.5]],\n",
       "\n",
       "       [[329.5,  29.5]],\n",
       "\n",
       "       [[389.5,  29.5]],\n",
       "\n",
       "       [[449.5,  29.5]],\n",
       "\n",
       "       [[509.5,  29.5]],\n",
       "\n",
       "       [[569.5,  29.5]],\n",
       "\n",
       "       [[ 29.5,  89.5]],\n",
       "\n",
       "       [[ 89.5,  89.5]],\n",
       "\n",
       "       [[149.5,  89.5]],\n",
       "\n",
       "       [[209.5,  89.5]],\n",
       "\n",
       "       [[269.5,  89.5]],\n",
       "\n",
       "       [[329.5,  89.5]],\n",
       "\n",
       "       [[389.5,  89.5]],\n",
       "\n",
       "       [[449.5,  89.5]],\n",
       "\n",
       "       [[509.5,  89.5]],\n",
       "\n",
       "       [[569.5,  89.5]],\n",
       "\n",
       "       [[ 29.5, 149.5]],\n",
       "\n",
       "       [[ 89.5, 149.5]],\n",
       "\n",
       "       [[149.5, 149.5]],\n",
       "\n",
       "       [[209.5, 149.5]],\n",
       "\n",
       "       [[269.5, 149.5]],\n",
       "\n",
       "       [[329.5, 149.5]],\n",
       "\n",
       "       [[389.5, 149.5]],\n",
       "\n",
       "       [[449.5, 149.5]],\n",
       "\n",
       "       [[509.5, 149.5]],\n",
       "\n",
       "       [[569.5, 149.5]],\n",
       "\n",
       "       [[ 29.5, 209.5]],\n",
       "\n",
       "       [[ 89.5, 209.5]],\n",
       "\n",
       "       [[149.5, 209.5]],\n",
       "\n",
       "       [[209.5, 209.5]],\n",
       "\n",
       "       [[269.5, 209.5]],\n",
       "\n",
       "       [[329.5, 209.5]],\n",
       "\n",
       "       [[389.5, 209.5]],\n",
       "\n",
       "       [[449.5, 209.5]],\n",
       "\n",
       "       [[509.5, 209.5]],\n",
       "\n",
       "       [[569.5, 209.5]],\n",
       "\n",
       "       [[ 29.5, 269.5]],\n",
       "\n",
       "       [[ 89.5, 269.5]],\n",
       "\n",
       "       [[149.5, 269.5]],\n",
       "\n",
       "       [[209.5, 269.5]],\n",
       "\n",
       "       [[269.5, 269.5]],\n",
       "\n",
       "       [[329.5, 269.5]],\n",
       "\n",
       "       [[389.5, 269.5]],\n",
       "\n",
       "       [[449.5, 269.5]],\n",
       "\n",
       "       [[509.5, 269.5]],\n",
       "\n",
       "       [[569.5, 269.5]],\n",
       "\n",
       "       [[ 29.5, 329.5]],\n",
       "\n",
       "       [[ 89.5, 329.5]],\n",
       "\n",
       "       [[149.5, 329.5]],\n",
       "\n",
       "       [[209.5, 329.5]],\n",
       "\n",
       "       [[269.5, 329.5]],\n",
       "\n",
       "       [[329.5, 329.5]],\n",
       "\n",
       "       [[389.5, 329.5]],\n",
       "\n",
       "       [[449.5, 329.5]],\n",
       "\n",
       "       [[509.5, 329.5]],\n",
       "\n",
       "       [[569.5, 329.5]],\n",
       "\n",
       "       [[ 29.5, 389.5]],\n",
       "\n",
       "       [[ 89.5, 389.5]],\n",
       "\n",
       "       [[149.5, 389.5]],\n",
       "\n",
       "       [[209.5, 389.5]],\n",
       "\n",
       "       [[269.5, 389.5]],\n",
       "\n",
       "       [[329.5, 389.5]],\n",
       "\n",
       "       [[389.5, 389.5]],\n",
       "\n",
       "       [[449.5, 389.5]],\n",
       "\n",
       "       [[509.5, 389.5]],\n",
       "\n",
       "       [[569.5, 389.5]],\n",
       "\n",
       "       [[ 29.5, 449.5]],\n",
       "\n",
       "       [[ 89.5, 449.5]],\n",
       "\n",
       "       [[149.5, 449.5]],\n",
       "\n",
       "       [[209.5, 449.5]],\n",
       "\n",
       "       [[269.5, 449.5]],\n",
       "\n",
       "       [[329.5, 449.5]],\n",
       "\n",
       "       [[389.5, 449.5]],\n",
       "\n",
       "       [[449.5, 449.5]],\n",
       "\n",
       "       [[509.5, 449.5]],\n",
       "\n",
       "       [[569.5, 449.5]],\n",
       "\n",
       "       [[ 29.5, 509.5]],\n",
       "\n",
       "       [[ 89.5, 509.5]],\n",
       "\n",
       "       [[149.5, 509.5]],\n",
       "\n",
       "       [[209.5, 509.5]],\n",
       "\n",
       "       [[269.5, 509.5]],\n",
       "\n",
       "       [[329.5, 509.5]],\n",
       "\n",
       "       [[389.5, 509.5]],\n",
       "\n",
       "       [[449.5, 509.5]],\n",
       "\n",
       "       [[509.5, 509.5]],\n",
       "\n",
       "       [[569.5, 509.5]],\n",
       "\n",
       "       [[ 29.5, 569.5]],\n",
       "\n",
       "       [[ 89.5, 569.5]],\n",
       "\n",
       "       [[149.5, 569.5]],\n",
       "\n",
       "       [[209.5, 569.5]],\n",
       "\n",
       "       [[269.5, 569.5]],\n",
       "\n",
       "       [[329.5, 569.5]],\n",
       "\n",
       "       [[389.5, 569.5]],\n",
       "\n",
       "       [[449.5, 569.5]],\n",
       "\n",
       "       [[509.5, 569.5]],\n",
       "\n",
       "       [[569.5, 569.5]]], dtype=float32)"
      ]
     },
     "execution_count": 18,
     "metadata": {},
     "output_type": "execute_result"
    }
   ],
   "source": []
  },
  {
   "cell_type": "code",
   "execution_count": 19,
   "metadata": {},
   "outputs": [
    {
     "data": {
      "text/plain": [
       "array([[[255, 255, 255],\n",
       "        [255, 255, 255],\n",
       "        [255, 255, 255],\n",
       "        ...,\n",
       "        [255, 255, 255],\n",
       "        [255, 255, 255],\n",
       "        [255, 255, 255]],\n",
       "\n",
       "       [[255, 255, 255],\n",
       "        [255, 255, 255],\n",
       "        [255, 255, 255],\n",
       "        ...,\n",
       "        [255, 255, 255],\n",
       "        [255, 255, 255],\n",
       "        [255, 255, 255]],\n",
       "\n",
       "       [[255, 255, 255],\n",
       "        [255, 255, 255],\n",
       "        [255, 255, 255],\n",
       "        ...,\n",
       "        [255, 255, 255],\n",
       "        [255, 255, 255],\n",
       "        [255, 255, 255]],\n",
       "\n",
       "       ...,\n",
       "\n",
       "       [[255, 255, 255],\n",
       "        [255, 255, 255],\n",
       "        [255, 255, 255],\n",
       "        ...,\n",
       "        [255, 255, 255],\n",
       "        [255, 255, 255],\n",
       "        [255, 255, 255]],\n",
       "\n",
       "       [[255, 255, 255],\n",
       "        [255, 255, 255],\n",
       "        [255, 255, 255],\n",
       "        ...,\n",
       "        [255, 255, 255],\n",
       "        [255, 255, 255],\n",
       "        [255, 255, 255]],\n",
       "\n",
       "       [[255, 255, 255],\n",
       "        [255, 255, 255],\n",
       "        [255, 255, 255],\n",
       "        ...,\n",
       "        [255, 255, 255],\n",
       "        [255, 255, 255],\n",
       "        [255, 255, 255]]], dtype=uint8)"
      ]
     },
     "execution_count": 19,
     "metadata": {},
     "output_type": "execute_result"
    }
   ],
   "source": [
    "# this draws in place\n",
    "cv2.drawChessboardCorners(dots,(10,10),corners,found)"
   ]
  },
  {
   "cell_type": "code",
   "execution_count": 20,
   "metadata": {},
   "outputs": [
    {
     "data": {
      "text/plain": [
       "<matplotlib.image.AxesImage at 0x1227b09b0>"
      ]
     },
     "execution_count": 20,
     "metadata": {},
     "output_type": "execute_result"
    },
    {
     "data": {
      "image/png": "[encoded data removed]",
      "text/plain": [
       "<Figure size 432x288 with 1 Axes>"
      ]
     },
     "metadata": {
      "needs_background": "light"
     },
     "output_type": "display_data"
    }
   ],
   "source": [
    "plt.imshow(dots)"
   ]
  }
 ],
 "metadata": {
  "kernelspec": {
   "display_name": "Python 3",
   "language": "python",
   "name": "python3"
  },
  "language_info": {
   "codemirror_mode": {
    "name": "ipython",
    "version": 3
   },
   "file_extension": ".py",
   "mimetype": "text/x-python",
   "name": "python",
   "nbconvert_exporter": "python",
   "pygments_lexer": "ipython3",
   "version": "3.6.6"
  }
 },
 "nbformat": 4,
 "nbformat_minor": 2
}
