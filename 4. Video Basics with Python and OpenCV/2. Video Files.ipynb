{
 "cells": [
  {
   "cell_type": "code",
   "execution_count": null,
   "metadata": {},
   "outputs": [],
   "source": [
    "# this is played as fast as possible\n",
    "import cv2\n",
    "\n",
    "cap = cv2.VideoCapture('mysupervideo.mp4')\n",
    "\n",
    "# check if file can be opened correctly\n",
    "if cap.isOpened() == False:\n",
    "    print('ERROR FILE IS NOT FOUND OR WRONG CODEC USED!')\n",
    "\n",
    "while cap.isOpened():\n",
    "    ret,frame = cap.read()\n",
    "    if ret == True:\n",
    "        cv2.imshow('frame',frame)\n",
    "        if cv2.waitKey(10) & 0xFF == ord('q'):\n",
    "            break\n",
    "    else:\n",
    "        # break in case there is no more frames to read\n",
    "        break\n",
    "\n",
    "cap.release()\n",
    "cv2.destroyAllWindows()"
   ]
  },
  {
   "cell_type": "code",
   "execution_count": 1,
   "metadata": {},
   "outputs": [],
   "source": [
    "# this is played with delay\n",
    "import cv2\n",
    "import time\n",
    "\n",
    "cap = cv2.VideoCapture('mysupervideo.mp4')\n",
    "\n",
    "# check if file can be opened correctly\n",
    "if cap.isOpened() == False:\n",
    "    print('ERROR FILE IS NOT FOUND OR WRONG CODEC USED!')\n",
    "\n",
    "while cap.isOpened():\n",
    "    ret,frame = cap.read()\n",
    "    if ret == True:\n",
    "        # each frame is alotted 1/20 seconds since we used 20 FPS\n",
    "        time.sleep(1/20)\n",
    "        cv2.imshow('frame',frame)\n",
    "        if cv2.waitKey(10) & 0xFF == ord('q'):\n",
    "            break\n",
    "    else:\n",
    "        # break in case there is no more frames to read\n",
    "        break\n",
    "\n",
    "cap.release()\n",
    "cv2.destroyAllWindows()"
   ]
  }
 ],
 "metadata": {
  "kernelspec": {
   "display_name": "Python 3",
   "language": "python",
   "name": "python3"
  },
  "language_info": {
   "codemirror_mode": {
    "name": "ipython",
    "version": 3
   },
   "file_extension": ".py",
   "mimetype": "text/x-python",
   "name": "python",
   "nbconvert_exporter": "python",
   "pygments_lexer": "ipython3",
   "version": "3.6.6"
  }
 },
 "nbformat": 4,
 "nbformat_minor": 2
}
